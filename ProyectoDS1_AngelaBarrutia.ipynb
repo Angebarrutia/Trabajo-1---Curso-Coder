{
  "nbformat": 4,
  "nbformat_minor": 0,
  "metadata": {
    "colab": {
      "provenance": [],
      "authorship_tag": "ABX9TyNqJARo2erqIzZclhRwgJUt",
      "include_colab_link": true
    },
    "kernelspec": {
      "name": "python3",
      "display_name": "Python 3"
    },
    "language_info": {
      "name": "python"
    }
  },
  "cells": [
    {
      "cell_type": "markdown",
      "metadata": {
        "id": "view-in-github",
        "colab_type": "text"
      },
      "source": [
        "<a href=\"https://colab.research.google.com/github/Angebarrutia/Trabajo-1---Curso-Coder/blob/main/ProyectoDS1_AngelaBarrutia.ipynb\" target=\"_parent\"><img src=\"https://colab.research.google.com/assets/colab-badge.svg\" alt=\"Open In Colab\"/></a>"
      ]
    },
    {
      "cell_type": "code",
      "execution_count": null,
      "metadata": {
        "id": "aLToyvAIbVIj"
      },
      "outputs": [],
      "source": []
    },
    {
      "cell_type": "markdown",
      "source": [
        "## Preguntas e hipótesis\n",
        "\n",
        "- ¿Las mujeres sobrevivieron más que los hombres?\n",
        "- ¿Los pasajeros de primera clase tuvieron mayores tasas de supervivencia?\n",
        "- ¿La edad influye en la probabilidad de supervivencia?"
      ],
      "metadata": {
        "id": "NW6EqIUOhbIS"
      }
    },
    {
      "cell_type": "markdown",
      "source": [
        "## Abstract\n",
        "\n",
        "En este proyecto se utilizará el dataset “Titanic”, el cual contiene información detallada sobre los pasajeros del famoso barco. Las variables incluyen datos como edad, sexo, clase del boleto, tarifa pagada, si viajaban solos o acompañados, y si sobrevivieron o no.\n",
        "\n",
        "El objetivo principal del proyecto es analizar qué factores influyeron en la supervivencia de los pasajeros. Algunas hipótesis a estudiar son: que las mujeres tuvieron una mayor tasa de supervivencia que los hombres, y que los pasajeros de primera clase tenían más probabilidades de sobrevivir que los de tercera.\n",
        "\n",
        "Para validar estas hipótesis, se realizarán visualizaciones univariadas, bivariadas y multivariadas. Además, se calcularán estadísticas descriptivas que acompañen las gráficas, permitiendo interpretar mejor los resultados. También se identificará si hay datos faltantes en el dataset y cómo pueden influir en el análisis.\n",
        "\n",
        "Este estudio busca utilizar herramientas de análisis y visualización en Python para responder preguntas reales sobre un conjunto de datos histórico, aplicando técnicas aprendidas durante el curso."
      ],
      "metadata": {
        "id": "BAAGamBDgReD"
      }
    }
  ]
}